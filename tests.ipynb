{
 "cells": [
  {
   "cell_type": "code",
   "id": "initial_id",
   "metadata": {
    "collapsed": true,
    "ExecuteTime": {
     "end_time": "2025-06-22T11:31:08.735591Z",
     "start_time": "2025-06-22T11:31:08.698352Z"
    }
   },
   "source": [
    "# This code creates a 2-qubit quantum circuit that generates a Bell state by applying a Hadamard gate to qubit 0 followed by a CNOT gate controlled by qubit 0 targeting qubit 1.\n",
    "\n",
    "from qiskit import QuantumCircuit\n",
    "\n",
    "qc = QuantumCircuit(2)  # Create a quantum circuit with 2 qubits\n",
    "\n",
    "qc.h(0)                 # Apply a Hadamard gate on qubit 0\n",
    "qc.cx(0, 1)             # Apply a CNOT (controlled-NOT) gate with qubit 0 as control and qubit 1 as target\n",
    "\n",
    "qc.draw(output='mpl')   # Draw the circuit as a matplotlib plot"
   ],
   "outputs": [
    {
     "data": {
      "text/plain": [
       "<Figure size 287.294x200.667 with 1 Axes>"
      ],
      "image/png": "[encoded data removed]"
     },
     "execution_count": 3,
     "metadata": {},
     "output_type": "execute_result"
    }
   ],
   "execution_count": 3
  },
  {
   "metadata": {
    "ExecuteTime": {
     "end_time": "2025-06-22T11:31:10.422426Z",
     "start_time": "2025-06-22T11:31:10.414861Z"
    }
   },
   "cell_type": "code",
   "source": [
    "# This code creates a 1-qubit circuit putting the qubit into superposition with a Hadamard gate, measures it, simulates 1024 runs on a local quantum simulator, and prints the measurement outcome counts.\n",
    "# Each time, the measurement counts are different (although there may be coincidences). Nevertheless, the number of 1s and 0s are always equal to the number of observations, in this case 1024.\n",
    "\n",
    "from qiskit import QuantumCircuit\n",
    "from qiskit_aer import AerSimulator\n",
    "\n",
    "# Create a quantum circuit with 1 qubit and 1 classical bit\n",
    "qc = QuantumCircuit(1, 1)\n",
    "\n",
    "# Apply a Hadamard gate to put the qubit in superposition\n",
    "qc.h(0)\n",
    "\n",
    "# Measure the qubit\n",
    "qc.measure(0, 0)\n",
    "\n",
    "# Initialize the Aer simulator\n",
    "simulator = AerSimulator()\n",
    "\n",
    "# Run the circuit on the simulator with 1024 shots\n",
    "job = simulator.run(qc, shots=1024)\n",
    "result = job.result()\n",
    "\n",
    "# Get the measurement counts (how many times each output was observed)\n",
    "counts = result.get_counts()\n",
    "print(\"Measurement counts:\", counts)\n"
   ],
   "id": "746ca3f4eae7b742",
   "outputs": [
    {
     "name": "stdout",
     "output_type": "stream",
     "text": [
      "Measurement counts: {'1': 501, '0': 523}\n"
     ]
    }
   ],
   "execution_count": 4
  },
  {
   "metadata": {},
   "cell_type": "markdown",
   "source": [
    "# QFT with 2 bits implementation\n",
    "\n",
    "One of the results were:\n",
    "\n",
    "`Counts: {'01': 259, '10': 232, '11': 282, '00': 251}`\n",
    "\n",
    "This means that the wave is pretty much flat as the probability of encountering any state is practically the same."
   ],
   "id": "202fc35f306370a0"
  },
  {
   "metadata": {
    "ExecuteTime": {
     "end_time": "2025-06-22T10:56:30.254499Z",
     "start_time": "2025-06-22T10:56:30.016770Z"
    }
   },
   "cell_type": "code",
   "outputs": [
    {
     "name": "stdout",
     "output_type": "stream",
     "text": [
      "Counts: {'01': 259, '10': 232, '11': 282, '00': 251}\n"
     ]
    },
    {
     "data": {
      "text/plain": [
       "<Figure size 914.831x284.278 with 1 Axes>"
      ],
      "image/png": "[encoded data removed]"
     },
     "execution_count": 31,
     "metadata": {},
     "output_type": "execute_result"
    }
   ],
   "execution_count": 31,
   "source": [
    "# This code creates a 2-qubit circuit, initializes the first and second qubit to |1⟩, applies the Quantum Fourier Transform, measures the result, simulates it 1024 times, and displays the output counts and circuit.\n",
    "\n",
    "from qiskit import QuantumCircuit\n",
    "from qiskit_aer import AerSimulator\n",
    "from qiskit.visualization import plot_histogram\n",
    "import matplotlib.pyplot as plt\n",
    "import numpy as np\n",
    "\n",
    "# Build the 2-qubit QFT circuit\n",
    "qc = QuantumCircuit(2)\n",
    "\n",
    "# Optional: Initialize qubits to non-trivial states\n",
    "# Guide: nothing -> |00⟩, qc.x(0) -> |10⟩, qc.x(1) -> |01⟩, qc.x(0); qc.x(1) -> |11⟩\n",
    "qc.x(0)\n",
    "qc.x(1)\n",
    "\n",
    "# QFT steps\n",
    "qc.h(0)                     # Apply Hadamard to qubit 0 to create superposition\n",
    "qc.cp(np.pi/2, 1, 0)        # Apply controlled phase (π/2) from qubit 1 to qubit 0\n",
    "qc.h(1)                     # Apply Hadamard to qubit 1 to complete the QFT\n",
    "\n",
    "# Optional: reverse qubit order with swap\n",
    "# This is because the QFT natually outputs the result in reverse bit order\n",
    "# The final state would be enconded as |q1 q0⟩ but we logically interpret it as |q0 q1⟩\n",
    "qc.swap(0, 1)\n",
    "\n",
    "# Add measurement\n",
    "qc.measure_all()\n",
    "\n",
    "# Simulate\n",
    "simulator = AerSimulator()\n",
    "result = simulator.run(qc, shots=1024).result()\n",
    "counts = result.get_counts()\n",
    "\n",
    "# Show result\n",
    "print(\"Counts:\", counts)\n",
    "plot_histogram(counts)\n",
    "plt.show()\n",
    "\n",
    "# Show circuit\n",
    "qc.draw('mpl')"
   ],
   "id": "48f0f3a508c1d186"
  },
  {
   "metadata": {},
   "cell_type": "markdown",
   "source": [
    "# QFT with n bits implementation\n",
    "\n",
    "One of the results were:\n",
    "\n",
    "`QFT measurement counts: {'000': 145, '011': 140, '001': 111, '010': 121, '100': 128, '101': 113, '111': 137, '110': 129}`\n",
    "\n",
    "This means that the wave is pretty much flat as the probability of encountering any state is practically the same."
   ],
   "id": "78ce257d74b133b8"
  },
  {
   "metadata": {
    "ExecuteTime": {
     "end_time": "2025-06-22T11:13:37.248063Z",
     "start_time": "2025-06-22T11:13:37.092792Z"
    }
   },
   "cell_type": "code",
   "source": [
    "# This code creates a 3-qubit circuit, applies the Quantum Fourier Transform, measures the result, simulates it 1024 times, and displays the output counts and circuit.\n",
    "\n",
    "from qiskit import QuantumCircuit\n",
    "from qiskit_aer import AerSimulator\n",
    "from qiskit.visualization import plot_histogram\n",
    "import matplotlib.pyplot as plt\n",
    "import numpy as np\n",
    "\n",
    "def qft_circuit(n):\n",
    "    qc = QuantumCircuit(n)\n",
    "    for j in range(n):\n",
    "        qc.h(j)\n",
    "        for k in range(j+1, n):\n",
    "            angle = np.pi / 2**(k - j)\n",
    "            qc.cp(angle, k, j)\n",
    "    # Swap qubits to reverse order (optional for correct output)\n",
    "    for i in range(n//2):\n",
    "        qc.swap(i, n - i - 1)\n",
    "    return qc\n",
    "\n",
    "n_qubits = 3\n",
    "qc = qft_circuit(n_qubits)\n",
    "qc.measure_all()\n",
    "\n",
    "# Simulate\n",
    "simulator = AerSimulator()\n",
    "result = simulator.run(qc, shots=1024).result()\n",
    "counts = result.get_counts()\n",
    "\n",
    "# Print and plot results\n",
    "print(\"QFT measurement counts:\", counts)\n",
    "plot_histogram(counts)\n",
    "plt.show()\n",
    "\n",
    "# Also draw the circuit\n",
    "qc.draw('mpl')"
   ],
   "id": "391eb96458105f98",
   "outputs": [
    {
     "name": "stdout",
     "output_type": "stream",
     "text": [
      "QFT measurement counts: {'011': 125, '010': 144, '001': 124, '100': 144, '101': 132, '111': 115, '110': 121, '000': 119}\n"
     ]
    },
    {
     "data": {
      "text/plain": [
       "<Figure size 1332.89x367.889 with 1 Axes>"
      ],
      "image/png": "[encoded data removed]"
     },
     "execution_count": 35,
     "metadata": {},
     "output_type": "execute_result"
    }
   ],
   "execution_count": 35
  },
  {
   "metadata": {},
   "cell_type": "markdown",
   "source": [
    "# 5-qubit QFT Diagram\n",
    "\n",
    "[This image](5qubit_qft_diagram.png) visually explains the function of the Quantum Fourier Transform (QFT), which is a fundamental tool in quantum computing for finding periodic patterns.\n",
    "\n",
    "Each row shows an \"Initial State\" being transformed into a \"Final State\" by the QFT:\n",
    "\n",
    "- **Initial States (Left):** These plots show a quantum system where the amplitudes of the different states (from `|00000>` to `|11111>`) have been prepared to form a wave-like pattern. Each row has a wave with a different frequency (i.e., the number of cycles it completes). A state's amplitude determines its probability of being observed when measured (specifically, the probability is the amplitude squared).\n",
    "\n",
    "- **Final States (Right):** After the QFT is applied, the wave pattern is transformed into a single, sharp spike.\n",
    "\n",
    "The key takeaway is that the location of the spike in the final state tells you the frequency of the wave in the initial state.\n",
    "\n",
    "- **Top:** A low-frequency wave (1 cycle) results in a spike at state `|00001>` (binary for 1).\n",
    "- **Middle:** A medium-frequency wave (2 cycles) results in a spike at `|00010>` (binary for 2).\n",
    "- **Bottom:** A higher-frequency wave (5 cycles) results in a spike at `|00101>` (binary for 5).\n",
    "\n",
    "In short, the image demonstrates that the QFT is a highly effective \"frequency detector\" for quantum states, a critical capability for powerful quantum algorithms."
   ],
   "id": "b25206ee3c2fb18c"
  }
 ],
 "metadata": {
  "kernelspec": {
   "display_name": "Python 3",
   "language": "python",
   "name": "python3"
  },
  "language_info": {
   "codemirror_mode": {
    "name": "ipython",
    "version": 2
   },
   "file_extension": ".py",
   "mimetype": "text/x-python",
   "name": "python",
   "nbconvert_exporter": "python",
   "pygments_lexer": "ipython2",
   "version": "2.7.6"
  }
 },
 "nbformat": 4,
 "nbformat_minor": 5
}
